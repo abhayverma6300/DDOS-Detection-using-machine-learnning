{
 "cells": [
  {
   "cell_type": "markdown",
   "metadata": {
    "colab_type": "text",
    "id": "0MRC0e0KhQ0S"
   },
   "source": [
    "# Decision Tree Classification"
   ]
  },
  {
   "cell_type": "markdown",
   "metadata": {
    "colab_type": "text",
    "id": "LWd1UlMnhT2s"
   },
   "source": [
    "## Importing the libraries"
   ]
  },
  {
   "cell_type": "code",
   "execution_count": 1,
   "metadata": {
    "colab": {},
    "colab_type": "code",
    "id": "YvGPUQaHhXfL"
   },
   "outputs": [],
   "source": [
    "import numpy as np\n",
    "import matplotlib.pyplot as plt\n",
    "import pandas as pd"
   ]
  },
  {
   "cell_type": "markdown",
   "metadata": {
    "colab_type": "text",
    "id": "K1VMqkGvhc3-"
   },
   "source": [
    "## Importing the dataset"
   ]
  },
  {
   "cell_type": "code",
   "execution_count": 2,
   "metadata": {
    "colab": {},
    "colab_type": "code",
    "id": "M52QDmyzhh9s"
   },
   "outputs": [],
   "source": [
    "dataset = pd.read_csv('DOS newest.csv')\n"
   ]
  },
  {
   "cell_type": "code",
   "execution_count": 3,
   "metadata": {},
   "outputs": [
    {
     "data": {
      "text/html": [
       "<div>\n",
       "<style scoped>\n",
       "    .dataframe tbody tr th:only-of-type {\n",
       "        vertical-align: middle;\n",
       "    }\n",
       "\n",
       "    .dataframe tbody tr th {\n",
       "        vertical-align: top;\n",
       "    }\n",
       "\n",
       "    .dataframe thead th {\n",
       "        text-align: right;\n",
       "    }\n",
       "</style>\n",
       "<table border=\"1\" class=\"dataframe\">\n",
       "  <thead>\n",
       "    <tr style=\"text-align: right;\">\n",
       "      <th></th>\n",
       "      <th>Unnamed: 0</th>\n",
       "      <th>logged_in</th>\n",
       "      <th>count</th>\n",
       "      <th>serror_rate</th>\n",
       "      <th>srv_serror_rate</th>\n",
       "      <th>same_srv_rate</th>\n",
       "      <th>dst_host_count</th>\n",
       "      <th>dst_host_srv_count</th>\n",
       "      <th>dst_host_same_srv_rate</th>\n",
       "      <th>dst_host_serror_rate</th>\n",
       "      <th>dst_host_srv_serror_rate</th>\n",
       "      <th>service_http</th>\n",
       "      <th>flag_S0</th>\n",
       "      <th>flag_SF</th>\n",
       "      <th>label</th>\n",
       "    </tr>\n",
       "  </thead>\n",
       "  <tbody>\n",
       "    <tr>\n",
       "      <th>0</th>\n",
       "      <td>0</td>\n",
       "      <td>0</td>\n",
       "      <td>2</td>\n",
       "      <td>0.0</td>\n",
       "      <td>0.0</td>\n",
       "      <td>1.00</td>\n",
       "      <td>150</td>\n",
       "      <td>25</td>\n",
       "      <td>0.17</td>\n",
       "      <td>0.00</td>\n",
       "      <td>0.00</td>\n",
       "      <td>0</td>\n",
       "      <td>0</td>\n",
       "      <td>1</td>\n",
       "      <td>0</td>\n",
       "    </tr>\n",
       "    <tr>\n",
       "      <th>1</th>\n",
       "      <td>1</td>\n",
       "      <td>0</td>\n",
       "      <td>13</td>\n",
       "      <td>0.0</td>\n",
       "      <td>0.0</td>\n",
       "      <td>0.08</td>\n",
       "      <td>255</td>\n",
       "      <td>1</td>\n",
       "      <td>0.00</td>\n",
       "      <td>0.00</td>\n",
       "      <td>0.00</td>\n",
       "      <td>0</td>\n",
       "      <td>0</td>\n",
       "      <td>1</td>\n",
       "      <td>0</td>\n",
       "    </tr>\n",
       "    <tr>\n",
       "      <th>2</th>\n",
       "      <td>2</td>\n",
       "      <td>0</td>\n",
       "      <td>123</td>\n",
       "      <td>1.0</td>\n",
       "      <td>1.0</td>\n",
       "      <td>0.05</td>\n",
       "      <td>255</td>\n",
       "      <td>26</td>\n",
       "      <td>0.10</td>\n",
       "      <td>1.00</td>\n",
       "      <td>1.00</td>\n",
       "      <td>0</td>\n",
       "      <td>1</td>\n",
       "      <td>0</td>\n",
       "      <td>1</td>\n",
       "    </tr>\n",
       "    <tr>\n",
       "      <th>3</th>\n",
       "      <td>3</td>\n",
       "      <td>1</td>\n",
       "      <td>5</td>\n",
       "      <td>0.2</td>\n",
       "      <td>0.2</td>\n",
       "      <td>1.00</td>\n",
       "      <td>30</td>\n",
       "      <td>255</td>\n",
       "      <td>1.00</td>\n",
       "      <td>0.03</td>\n",
       "      <td>0.01</td>\n",
       "      <td>1</td>\n",
       "      <td>0</td>\n",
       "      <td>1</td>\n",
       "      <td>0</td>\n",
       "    </tr>\n",
       "    <tr>\n",
       "      <th>4</th>\n",
       "      <td>4</td>\n",
       "      <td>1</td>\n",
       "      <td>30</td>\n",
       "      <td>0.0</td>\n",
       "      <td>0.0</td>\n",
       "      <td>1.00</td>\n",
       "      <td>255</td>\n",
       "      <td>255</td>\n",
       "      <td>1.00</td>\n",
       "      <td>0.00</td>\n",
       "      <td>0.00</td>\n",
       "      <td>1</td>\n",
       "      <td>0</td>\n",
       "      <td>1</td>\n",
       "      <td>0</td>\n",
       "    </tr>\n",
       "  </tbody>\n",
       "</table>\n",
       "</div>"
      ],
      "text/plain": [
       "   Unnamed: 0  logged_in  count  serror_rate  srv_serror_rate  same_srv_rate  \\\n",
       "0           0          0      2          0.0              0.0           1.00   \n",
       "1           1          0     13          0.0              0.0           0.08   \n",
       "2           2          0    123          1.0              1.0           0.05   \n",
       "3           3          1      5          0.2              0.2           1.00   \n",
       "4           4          1     30          0.0              0.0           1.00   \n",
       "\n",
       "   dst_host_count  dst_host_srv_count  dst_host_same_srv_rate  \\\n",
       "0             150                  25                    0.17   \n",
       "1             255                   1                    0.00   \n",
       "2             255                  26                    0.10   \n",
       "3              30                 255                    1.00   \n",
       "4             255                 255                    1.00   \n",
       "\n",
       "   dst_host_serror_rate  dst_host_srv_serror_rate  service_http  flag_S0  \\\n",
       "0                  0.00                      0.00             0        0   \n",
       "1                  0.00                      0.00             0        0   \n",
       "2                  1.00                      1.00             0        1   \n",
       "3                  0.03                      0.01             1        0   \n",
       "4                  0.00                      0.00             1        0   \n",
       "\n",
       "   flag_SF  label  \n",
       "0        1      0  \n",
       "1        1      0  \n",
       "2        0      1  \n",
       "3        1      0  \n",
       "4        1      0  "
      ]
     },
     "execution_count": 3,
     "metadata": {},
     "output_type": "execute_result"
    }
   ],
   "source": [
    "dataset.head()"
   ]
  },
  {
   "cell_type": "code",
   "execution_count": 4,
   "metadata": {},
   "outputs": [
    {
     "data": {
      "text/plain": [
       "{'whiskers': [<matplotlib.lines.Line2D at 0x220666de8b0>,\n",
       "  <matplotlib.lines.Line2D at 0x220666deb80>],\n",
       " 'caps': [<matplotlib.lines.Line2D at 0x220666def10>,\n",
       "  <matplotlib.lines.Line2D at 0x22066d982e0>],\n",
       " 'boxes': [<matplotlib.lines.Line2D at 0x220666de460>],\n",
       " 'medians': [<matplotlib.lines.Line2D at 0x22066d98670>],\n",
       " 'fliers': [<matplotlib.lines.Line2D at 0x22066d98a00>],\n",
       " 'means': []}"
      ]
     },
     "execution_count": 4,
     "metadata": {},
     "output_type": "execute_result"
    },
    {
     "data": {
      "image/png": "[encoded data removed]",
      "text/plain": [
       "<Figure size 432x288 with 1 Axes>"
      ]
     },
     "metadata": {
      "needs_background": "light"
     },
     "output_type": "display_data"
    }
   ],
   "source": [
    "plt.boxplot(dataset['count'])"
   ]
  },
  {
   "cell_type": "code",
   "execution_count": 5,
   "metadata": {},
   "outputs": [],
   "source": [
    "X = dataset.iloc[:, :-1]\n",
    "X = pd.DataFrame(X)\n",
    "y = dataset.iloc[:, -1]\n",
    "y = pd.DataFrame(y)"
   ]
  },
  {
   "cell_type": "code",
   "execution_count": 6,
   "metadata": {},
   "outputs": [
    {
     "data": {
      "text/html": [
       "<div>\n",
       "<style scoped>\n",
       "    .dataframe tbody tr th:only-of-type {\n",
       "        vertical-align: middle;\n",
       "    }\n",
       "\n",
       "    .dataframe tbody tr th {\n",
       "        vertical-align: top;\n",
       "    }\n",
       "\n",
       "    .dataframe thead th {\n",
       "        text-align: right;\n",
       "    }\n",
       "</style>\n",
       "<table border=\"1\" class=\"dataframe\">\n",
       "  <thead>\n",
       "    <tr style=\"text-align: right;\">\n",
       "      <th></th>\n",
       "      <th>Unnamed: 0</th>\n",
       "      <th>logged_in</th>\n",
       "      <th>count</th>\n",
       "      <th>serror_rate</th>\n",
       "      <th>srv_serror_rate</th>\n",
       "      <th>same_srv_rate</th>\n",
       "      <th>dst_host_count</th>\n",
       "      <th>dst_host_srv_count</th>\n",
       "      <th>dst_host_same_srv_rate</th>\n",
       "      <th>dst_host_serror_rate</th>\n",
       "      <th>dst_host_srv_serror_rate</th>\n",
       "      <th>service_http</th>\n",
       "      <th>flag_S0</th>\n",
       "      <th>flag_SF</th>\n",
       "    </tr>\n",
       "  </thead>\n",
       "  <tbody>\n",
       "    <tr>\n",
       "      <th>count</th>\n",
       "      <td>111397.00000</td>\n",
       "      <td>111397.000000</td>\n",
       "      <td>111397.000000</td>\n",
       "      <td>111397.000000</td>\n",
       "      <td>111397.000000</td>\n",
       "      <td>111397.000000</td>\n",
       "      <td>111397.000000</td>\n",
       "      <td>111397.000000</td>\n",
       "      <td>111397.000000</td>\n",
       "      <td>111397.000000</td>\n",
       "      <td>111397.000000</td>\n",
       "      <td>111397.000000</td>\n",
       "      <td>111397.000000</td>\n",
       "      <td>111397.000000</td>\n",
       "    </tr>\n",
       "    <tr>\n",
       "      <th>mean</th>\n",
       "      <td>56632.09696</td>\n",
       "      <td>0.438172</td>\n",
       "      <td>78.876011</td>\n",
       "      <td>0.316716</td>\n",
       "      <td>0.315147</td>\n",
       "      <td>0.648423</td>\n",
       "      <td>186.073072</td>\n",
       "      <td>123.455712</td>\n",
       "      <td>0.530646</td>\n",
       "      <td>0.316513</td>\n",
       "      <td>0.310614</td>\n",
       "      <td>0.361715</td>\n",
       "      <td>0.311481</td>\n",
       "      <td>0.593634</td>\n",
       "    </tr>\n",
       "    <tr>\n",
       "      <th>std</th>\n",
       "      <td>32695.96334</td>\n",
       "      <td>0.496165</td>\n",
       "      <td>97.114381</td>\n",
       "      <td>0.461828</td>\n",
       "      <td>0.461323</td>\n",
       "      <td>0.442463</td>\n",
       "      <td>95.913645</td>\n",
       "      <td>112.235782</td>\n",
       "      <td>0.446255</td>\n",
       "      <td>0.460934</td>\n",
       "      <td>0.460223</td>\n",
       "      <td>0.480499</td>\n",
       "      <td>0.463101</td>\n",
       "      <td>0.491157</td>\n",
       "    </tr>\n",
       "    <tr>\n",
       "      <th>min</th>\n",
       "      <td>0.00000</td>\n",
       "      <td>0.000000</td>\n",
       "      <td>0.000000</td>\n",
       "      <td>0.000000</td>\n",
       "      <td>0.000000</td>\n",
       "      <td>0.000000</td>\n",
       "      <td>0.000000</td>\n",
       "      <td>0.000000</td>\n",
       "      <td>0.000000</td>\n",
       "      <td>0.000000</td>\n",
       "      <td>0.000000</td>\n",
       "      <td>0.000000</td>\n",
       "      <td>0.000000</td>\n",
       "      <td>0.000000</td>\n",
       "    </tr>\n",
       "    <tr>\n",
       "      <th>25%</th>\n",
       "      <td>28309.00000</td>\n",
       "      <td>0.000000</td>\n",
       "      <td>2.000000</td>\n",
       "      <td>0.000000</td>\n",
       "      <td>0.000000</td>\n",
       "      <td>0.090000</td>\n",
       "      <td>94.000000</td>\n",
       "      <td>12.000000</td>\n",
       "      <td>0.050000</td>\n",
       "      <td>0.000000</td>\n",
       "      <td>0.000000</td>\n",
       "      <td>0.000000</td>\n",
       "      <td>0.000000</td>\n",
       "      <td>0.000000</td>\n",
       "    </tr>\n",
       "    <tr>\n",
       "      <th>50%</th>\n",
       "      <td>56653.00000</td>\n",
       "      <td>0.000000</td>\n",
       "      <td>16.000000</td>\n",
       "      <td>0.000000</td>\n",
       "      <td>0.000000</td>\n",
       "      <td>1.000000</td>\n",
       "      <td>255.000000</td>\n",
       "      <td>79.000000</td>\n",
       "      <td>0.570000</td>\n",
       "      <td>0.000000</td>\n",
       "      <td>0.000000</td>\n",
       "      <td>0.000000</td>\n",
       "      <td>0.000000</td>\n",
       "      <td>1.000000</td>\n",
       "    </tr>\n",
       "    <tr>\n",
       "      <th>75%</th>\n",
       "      <td>84949.00000</td>\n",
       "      <td>1.000000</td>\n",
       "      <td>142.000000</td>\n",
       "      <td>1.000000</td>\n",
       "      <td>1.000000</td>\n",
       "      <td>1.000000</td>\n",
       "      <td>255.000000</td>\n",
       "      <td>255.000000</td>\n",
       "      <td>1.000000</td>\n",
       "      <td>1.000000</td>\n",
       "      <td>1.000000</td>\n",
       "      <td>1.000000</td>\n",
       "      <td>1.000000</td>\n",
       "      <td>1.000000</td>\n",
       "    </tr>\n",
       "    <tr>\n",
       "      <th>max</th>\n",
       "      <td>113269.00000</td>\n",
       "      <td>1.000000</td>\n",
       "      <td>349.000000</td>\n",
       "      <td>1.000000</td>\n",
       "      <td>1.000000</td>\n",
       "      <td>1.000000</td>\n",
       "      <td>255.000000</td>\n",
       "      <td>255.000000</td>\n",
       "      <td>1.000000</td>\n",
       "      <td>1.000000</td>\n",
       "      <td>1.000000</td>\n",
       "      <td>1.000000</td>\n",
       "      <td>1.000000</td>\n",
       "      <td>1.000000</td>\n",
       "    </tr>\n",
       "  </tbody>\n",
       "</table>\n",
       "</div>"
      ],
      "text/plain": [
       "         Unnamed: 0      logged_in          count    serror_rate  \\\n",
       "count  111397.00000  111397.000000  111397.000000  111397.000000   \n",
       "mean    56632.09696       0.438172      78.876011       0.316716   \n",
       "std     32695.96334       0.496165      97.114381       0.461828   \n",
       "min         0.00000       0.000000       0.000000       0.000000   \n",
       "25%     28309.00000       0.000000       2.000000       0.000000   \n",
       "50%     56653.00000       0.000000      16.000000       0.000000   \n",
       "75%     84949.00000       1.000000     142.000000       1.000000   \n",
       "max    113269.00000       1.000000     349.000000       1.000000   \n",
       "\n",
       "       srv_serror_rate  same_srv_rate  dst_host_count  dst_host_srv_count  \\\n",
       "count    111397.000000  111397.000000   111397.000000       111397.000000   \n",
       "mean          0.315147       0.648423      186.073072          123.455712   \n",
       "std           0.461323       0.442463       95.913645          112.235782   \n",
       "min           0.000000       0.000000        0.000000            0.000000   \n",
       "25%           0.000000       0.090000       94.000000           12.000000   \n",
       "50%           0.000000       1.000000      255.000000           79.000000   \n",
       "75%           1.000000       1.000000      255.000000          255.000000   \n",
       "max           1.000000       1.000000      255.000000          255.000000   \n",
       "\n",
       "       dst_host_same_srv_rate  dst_host_serror_rate  dst_host_srv_serror_rate  \\\n",
       "count           111397.000000         111397.000000             111397.000000   \n",
       "mean                 0.530646              0.316513                  0.310614   \n",
       "std                  0.446255              0.460934                  0.460223   \n",
       "min                  0.000000              0.000000                  0.000000   \n",
       "25%                  0.050000              0.000000                  0.000000   \n",
       "50%                  0.570000              0.000000                  0.000000   \n",
       "75%                  1.000000              1.000000                  1.000000   \n",
       "max                  1.000000              1.000000                  1.000000   \n",
       "\n",
       "        service_http        flag_S0        flag_SF  \n",
       "count  111397.000000  111397.000000  111397.000000  \n",
       "mean        0.361715       0.311481       0.593634  \n",
       "std         0.480499       0.463101       0.491157  \n",
       "min         0.000000       0.000000       0.000000  \n",
       "25%         0.000000       0.000000       0.000000  \n",
       "50%         0.000000       0.000000       1.000000  \n",
       "75%         1.000000       1.000000       1.000000  \n",
       "max         1.000000       1.000000       1.000000  "
      ]
     },
     "execution_count": 6,
     "metadata": {},
     "output_type": "execute_result"
    }
   ],
   "source": [
    "X.describe()\n"
   ]
  },
  {
   "cell_type": "code",
   "execution_count": null,
   "metadata": {},
   "outputs": [],
   "source": []
  },
  {
   "cell_type": "code",
   "execution_count": 7,
   "metadata": {},
   "outputs": [],
   "source": [
    "dataset = pd.DataFrame(dataset)"
   ]
  },
  {
   "cell_type": "code",
   "execution_count": null,
   "metadata": {},
   "outputs": [],
   "source": []
  },
  {
   "cell_type": "code",
   "execution_count": 8,
   "metadata": {},
   "outputs": [
    {
     "name": "stderr",
     "output_type": "stream",
     "text": [
      "C:\\ProgramData\\Anaconda3\\lib\\site-packages\\sklearn\\linear_model\\_logistic.py:763: ConvergenceWarning: lbfgs failed to converge (status=1):\n",
      "STOP: TOTAL NO. of ITERATIONS REACHED LIMIT.\n",
      "\n",
      "Increase the number of iterations (max_iter) or scale the data as shown in:\n",
      "    https://scikit-learn.org/stable/modules/preprocessing.html\n",
      "Please also refer to the documentation for alternative solver options:\n",
      "    https://scikit-learn.org/stable/modules/linear_model.html#logistic-regression\n",
      "  n_iter_i = _check_optimize_result(\n",
      "C:\\ProgramData\\Anaconda3\\lib\\site-packages\\sklearn\\linear_model\\_logistic.py:763: ConvergenceWarning: lbfgs failed to converge (status=1):\n",
      "STOP: TOTAL NO. of ITERATIONS REACHED LIMIT.\n",
      "\n",
      "Increase the number of iterations (max_iter) or scale the data as shown in:\n",
      "    https://scikit-learn.org/stable/modules/preprocessing.html\n",
      "Please also refer to the documentation for alternative solver options:\n",
      "    https://scikit-learn.org/stable/modules/linear_model.html#logistic-regression\n",
      "  n_iter_i = _check_optimize_result(\n",
      "C:\\ProgramData\\Anaconda3\\lib\\site-packages\\sklearn\\linear_model\\_logistic.py:763: ConvergenceWarning: lbfgs failed to converge (status=1):\n",
      "STOP: TOTAL NO. of ITERATIONS REACHED LIMIT.\n",
      "\n",
      "Increase the number of iterations (max_iter) or scale the data as shown in:\n",
      "    https://scikit-learn.org/stable/modules/preprocessing.html\n",
      "Please also refer to the documentation for alternative solver options:\n",
      "    https://scikit-learn.org/stable/modules/linear_model.html#logistic-regression\n",
      "  n_iter_i = _check_optimize_result(\n",
      "C:\\ProgramData\\Anaconda3\\lib\\site-packages\\sklearn\\linear_model\\_logistic.py:763: ConvergenceWarning: lbfgs failed to converge (status=1):\n",
      "STOP: TOTAL NO. of ITERATIONS REACHED LIMIT.\n",
      "\n",
      "Increase the number of iterations (max_iter) or scale the data as shown in:\n",
      "    https://scikit-learn.org/stable/modules/preprocessing.html\n",
      "Please also refer to the documentation for alternative solver options:\n",
      "    https://scikit-learn.org/stable/modules/linear_model.html#logistic-regression\n",
      "  n_iter_i = _check_optimize_result(\n"
     ]
    },
    {
     "name": "stdout",
     "output_type": "stream",
     "text": [
      "LR: 0.962064 (0.017955)\n",
      "RF: 0.986786 (0.001293)\n",
      "KNN: 0.941803 (0.001873)\n",
      "CART: 0.983743 (0.001341)\n",
      "NB: 0.949442 (0.003235)\n"
     ]
    },
    {
     "data": {
      "image/png": "[encoded data removed]",
      "text/plain": [
       "<Figure size 432x288 with 1 Axes>"
      ]
     },
     "metadata": {
      "needs_background": "light"
     },
     "output_type": "display_data"
    }
   ],
   "source": [
    "import pandas as pd\n",
    "import matplotlib.pyplot as plt\n",
    "from sklearn import model_selection\n",
    "from sklearn.linear_model import LogisticRegression\n",
    "from sklearn.tree import DecisionTreeClassifier\n",
    "from sklearn.neighbors import KNeighborsClassifier\n",
    "from sklearn.ensemble import RandomForestClassifier\n",
    "from sklearn.naive_bayes import GaussianNB\n",
    "from sklearn.svm import SVC\n",
    "# load dataset\n",
    "dataframe = pd.read_csv('DOS newest.csv')\n",
    "array = dataframe.values\n",
    "X = array[:,:-1]\n",
    "Y = array[:,-1]\n",
    "# prepare configuration for cross validation test harness\n",
    "seed = 7\n",
    "# prepare models\n",
    "models = []\n",
    "models.append(('LR', LogisticRegression()))\n",
    "models.append(('RF', RandomForestClassifier()))\n",
    "models.append(('KNN', KNeighborsClassifier(n_neighbors = 6)))\n",
    "models.append(('CART', DecisionTreeClassifier()))\n",
    "models.append(('NB', GaussianNB()))\n",
    "#models.append(('NB', SVC(kernel = 'rbf', random_state = 0)))\n",
    "#models.append(('NB', SVC(kernel = 'linear', random_state = 0)))\n",
    "\n",
    "\n",
    "\n",
    "# evaluate each model in turn\n",
    "results = []\n",
    "names = []\n",
    "scoring = 'accuracy'\n",
    "for name, model in models:\n",
    "    kfold = model_selection.KFold(n_splits=10, random_state=seed ,shuffle=True)\n",
    "    cv_results = model_selection.cross_val_score(model, X, Y, cv=kfold, scoring=scoring)\n",
    "    results.append(cv_results)\n",
    "    names.append(name)\n",
    "    msg = \"%s: %f (%f)\" % (name, cv_results.mean(), cv_results.std())\n",
    "    print(msg)\n",
    "# boxplot algorithm comparison\n",
    "fig = plt.figure()\n",
    "fig.suptitle('Algorithm Comparison')\n",
    "ax = fig.add_subplot(111)\n",
    "plt.boxplot(results)\n",
    "#ax.set_xticklabels(names)\n",
    "plt.show()"
   ]
  },
  {
   "cell_type": "code",
   "execution_count": 9,
   "metadata": {},
   "outputs": [
    {
     "name": "stdout",
     "output_type": "stream",
     "text": [
      "[array([0.97298025, 0.97235189, 0.96938959, 0.97073609, 0.96894075,\n",
      "       0.92495512, 0.92764811, 0.97091301, 0.96911752, 0.97360625]), array([0.98779174, 0.98617594, 0.98491921, 0.98752244, 0.98590664,\n",
      "       0.98617594, 0.98770197, 0.98814974, 0.98482808, 0.98868839]), array([0.94497307, 0.94030521, 0.94156194, 0.93976661, 0.94308797,\n",
      "       0.94129264, 0.93958707, 0.93994075, 0.94317264, 0.94433971]), array([0.98500898, 0.98204668, 0.98159785, 0.98393178, 0.98348294,\n",
      "       0.98330341, 0.98456014, 0.98518718, 0.98249394, 0.9858156 ]), array([0.95152603, 0.95      , 0.94254937, 0.9505386 , 0.95224417,\n",
      "       0.9483842 , 0.94793537, 0.95017506, 0.94622498, 0.95484334])]\n"
     ]
    }
   ],
   "source": [
    "print(results)"
   ]
  },
  {
   "cell_type": "code",
   "execution_count": 10,
   "metadata": {},
   "outputs": [
    {
     "data": {
      "text/plain": [
       "{'whiskers': [<matplotlib.lines.Line2D at 0x22066f53b50>,\n",
       "  <matplotlib.lines.Line2D at 0x22066f53ee0>,\n",
       "  <matplotlib.lines.Line2D at 0x22066f714c0>,\n",
       "  <matplotlib.lines.Line2D at 0x22066f71850>,\n",
       "  <matplotlib.lines.Line2D at 0x22066f7adf0>,\n",
       "  <matplotlib.lines.Line2D at 0x22066f871c0>,\n",
       "  <matplotlib.lines.Line2D at 0x22066f91760>,\n",
       "  <matplotlib.lines.Line2D at 0x22066f91af0>,\n",
       "  <matplotlib.lines.Line2D at 0x22066faa0d0>,\n",
       "  <matplotlib.lines.Line2D at 0x22066faa460>],\n",
       " 'caps': [<matplotlib.lines.Line2D at 0x22066f632b0>,\n",
       "  <matplotlib.lines.Line2D at 0x22066f63640>,\n",
       "  <matplotlib.lines.Line2D at 0x22066f71be0>,\n",
       "  <matplotlib.lines.Line2D at 0x22066f71f70>,\n",
       "  <matplotlib.lines.Line2D at 0x22066f87550>,\n",
       "  <matplotlib.lines.Line2D at 0x22066f878e0>,\n",
       "  <matplotlib.lines.Line2D at 0x22066f91e80>,\n",
       "  <matplotlib.lines.Line2D at 0x22066f9f250>,\n",
       "  <matplotlib.lines.Line2D at 0x22066faa7f0>,\n",
       "  <matplotlib.lines.Line2D at 0x22066faab80>],\n",
       " 'boxes': [<matplotlib.lines.Line2D at 0x22066f537c0>,\n",
       "  <matplotlib.lines.Line2D at 0x22066f71130>,\n",
       "  <matplotlib.lines.Line2D at 0x22066f7aa60>,\n",
       "  <matplotlib.lines.Line2D at 0x22066f913d0>,\n",
       "  <matplotlib.lines.Line2D at 0x22066f9fd00>],\n",
       " 'medians': [<matplotlib.lines.Line2D at 0x22066f639d0>,\n",
       "  <matplotlib.lines.Line2D at 0x22066f7a340>,\n",
       "  <matplotlib.lines.Line2D at 0x22066f87c70>,\n",
       "  <matplotlib.lines.Line2D at 0x22066f9f5e0>,\n",
       "  <matplotlib.lines.Line2D at 0x22066faaf10>],\n",
       " 'fliers': [<matplotlib.lines.Line2D at 0x22066f63d60>,\n",
       "  <matplotlib.lines.Line2D at 0x22066f7a6d0>,\n",
       "  <matplotlib.lines.Line2D at 0x22066f91040>,\n",
       "  <matplotlib.lines.Line2D at 0x22066f9f970>,\n",
       "  <matplotlib.lines.Line2D at 0x22066fb42e0>],\n",
       " 'means': []}"
      ]
     },
     "execution_count": 10,
     "metadata": {},
     "output_type": "execute_result"
    },
    {
     "data": {
      "image/png": "[encoded data removed]",
      "text/plain": [
       "<Figure size 432x288 with 1 Axes>"
      ]
     },
     "metadata": {
      "needs_background": "light"
     },
     "output_type": "display_data"
    }
   ],
   "source": [
    "plt.boxplot(results)"
   ]
  },
  {
   "cell_type": "code",
   "execution_count": null,
   "metadata": {},
   "outputs": [],
   "source": []
  }
 ],
 "metadata": {
  "colab": {
   "authorship_tag": "ABX9TyM4bDv8Iqp+TcQPX/T2Q+2d",
   "collapsed_sections": [],
   "machine_shape": "hm",
   "name": "decision_tree_classification.ipynb",
   "provenance": [],
   "toc_visible": true
  },
  "kernelspec": {
   "display_name": "Python 3 (ipykernel)",
   "language": "python",
   "name": "python3"
  },
  "language_info": {
   "codemirror_mode": {
    "name": "ipython",
    "version": 3
   },
   "file_extension": ".py",
   "mimetype": "text/x-python",
   "name": "python",
   "nbconvert_exporter": "python",
   "pygments_lexer": "ipython3",
   "version": "3.9.7"
  }
 },
 "nbformat": 4,
 "nbformat_minor": 1
}
